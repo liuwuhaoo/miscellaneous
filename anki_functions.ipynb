{
 "cells": [
  {
   "cell_type": "code",
   "execution_count": 197,
   "metadata": {},
   "outputs": [],
   "source": [
    "import requests\n",
    "import json\n",
    "import re\n",
    "from bs4 import BeautifulSoup"
   ]
  },
  {
   "cell_type": "code",
   "execution_count": 311,
   "metadata": {},
   "outputs": [],
   "source": [
    "url = \"http://localhost:8765\"\n",
    "articles = [\"der\", \"die\", \"das\"]\n",
    "pronouns = [\"etwas/jemanden\", \"jemanden/etwas\", \"sich\", \"jemanden\", \"jemandem\", \"etwas\"]\n",
    "prepositions = [\"an\", \"auf\", \"hinter\", \"neben\", \"in\", \"über\", \"unter\", \"vor\", \"zwischen\", \"bei\"]"
   ]
  },
  {
   "cell_type": "code",
   "execution_count": 262,
   "metadata": {},
   "outputs": [],
   "source": [
    "import json\n",
    "import urllib.request\n",
    "\n",
    "def request(action, **params):\n",
    "    return {'action': action, 'params': params, 'version': 6}\n",
    "\n",
    "def invoke(action, **params):\n",
    "    requestJson = json.dumps(request(action, **params)).encode('utf-8')\n",
    "    response = json.load(urllib.request.urlopen(urllib.request.Request('http://127.0.0.1:8765', requestJson)))\n",
    "    if len(response) != 2:\n",
    "        raise Exception('response has an unexpected number of fields')\n",
    "    if 'error' not in response:\n",
    "        raise Exception('response is missing required error field')\n",
    "    if 'result' not in response:\n",
    "        raise Exception('response is missing required result field')\n",
    "    if response['error'] is not None:\n",
    "        raise Exception(response['error'])\n",
    "    return response['result']"
   ]
  },
  {
   "cell_type": "code",
   "execution_count": 314,
   "metadata": {},
   "outputs": [],
   "source": [
    "def extract_main_word(phrase):\n",
    "    word = ''\n",
    "    phrase = re.sub(r'\\[sound:.*?\\]|,|\\||\\(.*?\\)', '', phrase)\n",
    "    pronouns_patter = re.compile(r'\\b(?:' + '|'.join(re.escape(word) for word in pronouns) + r')\\b')\n",
    "    regex_pattern = '|'.join(re.escape(word) for word in pronouns)\n",
    "    phrase = re.sub(r'\\b(' + regex_pattern + r')\\b', '', phrase)\n",
    "    preposition_patter = re.compile(r'\\b(?:' + '|'.join(prepositions) + r')\\b')\n",
    "    phrase = re.sub(preposition_patter, '', phrase)\n",
    "    words = phrase.split()\n",
    "    if len(words) == 1:\n",
    "        word = words[0]\n",
    "    elif words[0] in articles and len(words) > 1:\n",
    "        word = words[1]\n",
    "    return word\n",
    "\n",
    "def add_note_frequency(note):\n",
    "    if (note['fields']['Frequency']['value'] != ''):\n",
    "        return\n",
    "    phrase = note['fields']['Front']['value']\n",
    "    word = extract_main_word(phrase)\n",
    "    if word != '':\n",
    "        freq = get_freuqency(word)\n",
    "        print(phrase, word, freq)\n",
    "        newnote = {'id': note[\"noteId\"], 'fields': {\"Frequency\": str(freq)}}\n",
    "        invoke('updateNoteFields', note=newnote)\n",
    "\n",
    "def get_freuqency(word):\n",
    "    freq = requests.get('https://www.dwds.de/api/frequency/?q=' + word).json()['frequency']\n",
    "    return freq\n",
    "    \n",
    "def get_proved_ipa(word):\n",
    "    res = requests.get('https://www.dwds.de/api/ipa/?q=' + word)\n",
    "    if (res.status_code != 200):\n",
    "        print(\"Error: \", word, res.status_code, res.text)\n",
    "        return ' '\n",
    "    \n",
    "    res = res.json()[0]\n",
    "\n",
    "    if res['status'] == 'proved':\n",
    "        return res['ipa']\n",
    "    else:\n",
    "        return ' '\n",
    "\n",
    "def add_note_ipa(note):\n",
    "    if (note['fields']['IPA']['value'] != ''):\n",
    "        return\n",
    "    phrase = note['fields']['Front']['value']\n",
    "    word = extract_main_word(phrase)\n",
    "    if word != '':\n",
    "        res = get_proved_ipa(word)\n",
    "        print(word, res)\n",
    "        newnote = {'id': note[\"noteId\"], 'fields': {\"IPA\": res}}\n",
    "        invoke('updateNoteFields', note=newnote)"
   ]
  },
  {
   "cell_type": "code",
   "execution_count": 319,
   "metadata": {},
   "outputs": [
    {
     "name": "stdout",
     "output_type": "stream",
     "text": [
      "27\n"
     ]
    }
   ],
   "source": [
    "deckname = \"A2-18\"\n",
    "ids = invoke('findNotes', query=\"deck:\"+deckname)\n",
    "print(len(ids))\n",
    "notes = invoke('notesInfo', notes=ids)\n",
    "\n",
    "for note in notes:\n",
    "    add_note_ipa(note)\n",
    "    add_note_frequency(note)"
   ]
  },
  {
   "cell_type": "code",
   "execution_count": 320,
   "metadata": {},
   "outputs": [],
   "source": [
    "de_class = \"sc-giDImq cdzKxF\"\n",
    "en_class = \"sc-iwCbjw kqDtNB\"\n",
    "\n",
    "def add_note(phrase_item, deckname):\n",
    "    # item: (de_phrase, en_phrase, freq, ipa)\n",
    "    de_phrase, en_phrase, freq, ipa = phrase_item\n",
    "    invoke('addNote', note={'deckName': deckname, 'modelName': 'Smart', 'fields': {'Front': de_phrase, 'Back': en_phrase, 'Frequency': freq, 'IPA': ipa}})\n",
    "\n",
    "def get_dw_words(dw_url):\n",
    "    ### return items: [(de_phrase, en_phrase, freq, ipa)]\n",
    "    response = requests.get(dw_url)\n",
    "    html_content = response.text\n",
    "    soup = BeautifulSoup(html_content, 'html.parser')\n",
    "    de_phrases = [phrase.text for phrase in soup.find_all(\"a\", class_=de_class)]\n",
    "    en_phrases = [phrase.text for phrase in soup.find_all(\"span\", class_=en_class)]\n",
    "\n",
    "    if (len(de_phrases) != len(en_phrases)):\n",
    "        print(\"Error: The number of German and English\")\n",
    "        return\n",
    "\n",
    "    items = []\n",
    "    for i in range(len(de_phrases)):\n",
    "        de_phrase = de_phrases[i]\n",
    "        en_phrase = en_phrases[i]\n",
    "        en_phrase = re.sub(r'\\n', '', en_phrase)\n",
    "        de_word = extract_main_word(de_phrase)\n",
    "        if (de_word == ''):\n",
    "            items.append((de_phrase, en_phrase, '', ''))\n",
    "        else:\n",
    "            freq = get_freuqency(de_word)\n",
    "            ipa = get_proved_ipa(de_word)\n",
    "            items.append((de_phrase, en_phrase, str(freq), ipa))\n",
    "    return items"
   ]
  },
  {
   "cell_type": "code",
   "execution_count": 322,
   "metadata": {},
   "outputs": [],
   "source": [
    "dw_url = \"https://learngerman.dw.com/en/feste-und-feiertage/l-38263408/lv\"\n",
    "deckname = \"A2-11-15\"\n",
    "\n",
    "def add_dw_words(dw_url, deckname):\n",
    "    items = get_dw_words(dw_url)\n",
    "    for item in items:\n",
    "        add_note_item(item, deckname)"
   ]
  }
 ],
 "metadata": {
  "kernelspec": {
   "display_name": "base",
   "language": "python",
   "name": "python3"
  },
  "language_info": {
   "codemirror_mode": {
    "name": "ipython",
    "version": 3
   },
   "file_extension": ".py",
   "mimetype": "text/x-python",
   "name": "python",
   "nbconvert_exporter": "python",
   "pygments_lexer": "ipython3",
   "version": "3.10.12"
  }
 },
 "nbformat": 4,
 "nbformat_minor": 2
}
