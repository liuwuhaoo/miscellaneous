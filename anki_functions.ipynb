{
 "cells": [
  {
   "cell_type": "code",
   "execution_count": 2,
   "metadata": {},
   "outputs": [],
   "source": [
    "import requests\n",
    "import json\n",
    "import re\n",
    "from bs4 import BeautifulSoup"
   ]
  },
  {
   "cell_type": "code",
   "execution_count": 3,
   "metadata": {},
   "outputs": [],
   "source": [
    "url = \"http://localhost:8765\"\n",
    "articles = [\"der\", \"die\", \"das\"]\n",
    "pronouns = [\"etwas/jemanden\", \"jemanden/etwas\", \"sich\", \"jemanden\", \"jemandem\", \"etwas\"]\n",
    "prepositions = [\"an\", \"auf\", \"hinter\", \"neben\", \"in\", \"über\", \"unter\", \"vor\", \"zwischen\", \"bei\"]"
   ]
  },
  {
   "cell_type": "code",
   "execution_count": 4,
   "metadata": {},
   "outputs": [],
   "source": [
    "import json\n",
    "import urllib.request\n",
    "\n",
    "def request(action, **params):\n",
    "    return {'action': action, 'params': params, 'version': 6}\n",
    "\n",
    "def invoke(action, **params):\n",
    "    requestJson = json.dumps(request(action, **params)).encode('utf-8')\n",
    "    response = json.load(urllib.request.urlopen(urllib.request.Request('http://127.0.0.1:8765', requestJson)))\n",
    "    if len(response) != 2:\n",
    "        raise Exception('response has an unexpected number of fields')\n",
    "    if 'error' not in response:\n",
    "        raise Exception('response is missing required error field')\n",
    "    if 'result' not in response:\n",
    "        raise Exception('response is missing required result field')\n",
    "    if response['error'] is not None:\n",
    "        raise Exception(response['error'])\n",
    "    return response['result']"
   ]
  },
  {
   "cell_type": "code",
   "execution_count": 5,
   "metadata": {},
   "outputs": [
    {
     "name": "stdout",
     "output_type": "stream",
     "text": [
      "got list of decks: ['A2-0-5', 'A2-11-15', 'A2-18', 'A2-6-10', 'Adjective Declension', 'Default', 'Geography', 'Geography::Geography', 'logo', 'Top 100 German Verbs']\n"
     ]
    }
   ],
   "source": [
    "result = invoke('deckNames')\n",
    "print('got list of decks: {}'.format(result))"
   ]
  },
  {
   "cell_type": "code",
   "execution_count": 6,
   "metadata": {},
   "outputs": [],
   "source": [
    "def extract_main_word(phrase):\n",
    "    word = ''\n",
    "    phrase = re.sub(r'\\[sound:.*?\\]|,|\\||\\(.*?\\)', '', phrase)\n",
    "    pronouns_patter = re.compile(r'\\b(?:' + '|'.join(re.escape(word) for word in pronouns) + r')\\b')\n",
    "    regex_pattern = '|'.join(re.escape(word) for word in pronouns)\n",
    "    phrase = re.sub(r'\\b(' + regex_pattern + r')\\b', '', phrase)\n",
    "    preposition_patter = re.compile(r'\\b(?:' + '|'.join(prepositions) + r')\\b')\n",
    "    phrase = re.sub(preposition_patter, '', phrase)\n",
    "    words = phrase.split()\n",
    "    if len(words) == 1:\n",
    "        word = words[0]\n",
    "    elif words[0] in articles and len(words) > 1:\n",
    "        word = words[1]\n",
    "    return word\n",
    "\n",
    "def add_note_frequency(note):\n",
    "    if (note['fields']['Frequency']['value'] != ''):\n",
    "        return\n",
    "    phrase = note['fields']['Front']['value']\n",
    "    word = extract_main_word(phrase)\n",
    "    if word != '':\n",
    "        freq = get_freuqency(word)\n",
    "        print(phrase, word, freq)\n",
    "        newnote = {'id': note[\"noteId\"], 'fields': {\"Frequency\": str(freq)}}\n",
    "        invoke('updateNoteFields', note=newnote)\n",
    "\n",
    "def get_freuqency(word):\n",
    "    freq = requests.get('https://www.dwds.de/api/frequency/?q=' + word).json()['frequency']\n",
    "    return freq\n",
    "    \n",
    "def get_proved_ipa(word):\n",
    "    res = requests.get('https://www.dwds.de/api/ipa/?q=' + word)\n",
    "    if (res.status_code != 200):\n",
    "        print(\"Error: \", word, res.status_code, res.text)\n",
    "        return ' '\n",
    "    \n",
    "    res = res.json()[0]\n",
    "\n",
    "    if res['status'] == 'proved':\n",
    "        return res['ipa']\n",
    "    else:\n",
    "        return ' '\n",
    "\n",
    "def add_note_ipa(note):\n",
    "    if (note['fields']['IPA']['value'] != ''):\n",
    "        return\n",
    "    phrase = note['fields']['Front']['value']\n",
    "    word = extract_main_word(phrase)\n",
    "    if word != '':\n",
    "        res = get_proved_ipa(word)\n",
    "        print(word, res)\n",
    "        newnote = {'id': note[\"noteId\"], 'fields': {\"IPA\": res}}\n",
    "        invoke('updateNoteFields', note=newnote)"
   ]
  },
  {
   "cell_type": "code",
   "execution_count": 12,
   "metadata": {},
   "outputs": [],
   "source": [
    "# deckname = \"A2-18\"\n",
    "# ids = invoke('findNotes', query=\"deck:\"+deckname)\n",
    "# print(len(ids))\n",
    "# notes = invoke('notesInfo', notes=ids)\n",
    "\n",
    "# for note in notes:\n",
    "#     add_note_ipa(note)\n",
    "#     add_note_frequency(note)"
   ]
  },
  {
   "cell_type": "code",
   "execution_count": 89,
   "metadata": {},
   "outputs": [],
   "source": [
    "import shutil\n",
    "import uuid\n",
    "\n",
    "media_path = invoke(\"getMediaDirPath\")\n",
    "DE_VOICE = \"de-DE-ConradNeural\"\n",
    "EN_VOICE = \"\"\n",
    "DEBUG = False\n",
    "\n",
    "async def gen_audio(phrase, lang=\"de\"):\n",
    "    communicate = edge_tts.Communicate(phrase, DE_VOICE) if lang == \"de\" else edge_tts.Communicate(phrase)\n",
    "    output = (\"debug\" if DEBUG else \"edge\")  + str(uuid.uuid1()) + \".mp3\"\n",
    "    await communicate.save(output)\n",
    "    shutil.move(\"./\" + output, media_path + \"/\" + output)\n",
    "    return output"
   ]
  },
  {
   "cell_type": "code",
   "execution_count": 86,
   "metadata": {},
   "outputs": [],
   "source": [
    "de_class = \"sc-giDImq cdzKxF\"\n",
    "en_class = \"sc-iwCbjw kqDtNB\"\n",
    "\n",
    "def add_note(phrase_item, deckname):\n",
    "    # item: (de_phrase, en_phrase, freq, ipa)\n",
    "    de_phrase, en_phrase, freq, ipa = phrase_item\n",
    "    invoke('addNote', note={'deckName': deckname, 'modelName': 'Smart', 'fields': {'Front': de_phrase, 'Back': en_phrase, 'Frequency': freq, 'IPA': ipa}})\n",
    "\n",
    "async def add_word_suger(de_phrase, en_phrase):\n",
    "    de_word = extract_main_word(de_phrase)\n",
    "    de_audio = await gen_audio(de_phrase, \"de\")\n",
    "    en_audio = await gen_audio(en_phrase, \"en\")\n",
    "    de_audio_label = \"[sound:\" + de_audio + \"]\"\n",
    "    en_audio_label = \"[sound:\" + en_audio + \"]\"\n",
    "    de_field = de_phrase + \" \" + de_audio_label\n",
    "    en_field = en_phrase + \" \" + en_audio_label\n",
    "    if (de_word == ''):\n",
    "        return (de_field, en_field, '', '')\n",
    "    else:\n",
    "        freq = get_freuqency(de_word)\n",
    "        ipa = get_proved_ipa(de_word)\n",
    "    return (de_field, en_field, str(freq), ipa)\n",
    "\n",
    "async def get_dw_words(dw_url):\n",
    "    ### return items: [(de_phrase, en_phrase, freq, ipa)]\n",
    "    response = requests.get(dw_url)\n",
    "    html_content = response.text\n",
    "    soup = BeautifulSoup(html_content, 'html.parser')\n",
    "    de_phrases = [phrase.text for phrase in soup.find_all(\"a\", class_=de_class)]\n",
    "    en_phrases = [phrase.text for phrase in soup.find_all(\"span\", class_=en_class)]\n",
    "\n",
    "    if (len(de_phrases) != len(en_phrases)):\n",
    "        raise ValueError(\"Error: The number of German and English\")\n",
    "        return\n",
    "    elif (len(de_phrases) == 0 or len(en_phrases) == 0):\n",
    "        raise ValueError(\"No phrases found.\")\n",
    "\n",
    "    items = []\n",
    "    for i in range(len(de_phrases)):\n",
    "        de_phrase = de_phrases[i]\n",
    "        # de_audio_filename = await gen_audio(de_phrase)\n",
    "        en_phrase = en_phrases[i]\n",
    "        en_phrase = re.sub(r'\\n', '', en_phrase)\n",
    "        item = await add_word_suger(de_phrase, en_phrase)\n",
    "        if (item[2] != '' and int(item[2]) <= 1):\n",
    "            continue\n",
    "        items.append(item)\n",
    "    return items"
   ]
  },
  {
   "cell_type": "code",
   "execution_count": 87,
   "metadata": {},
   "outputs": [],
   "source": [
    "async def add_dw_words(dw_url, deckname):\n",
    "    items = await get_dw_words(dw_url)\n",
    "    for item in items:\n",
    "        add_note(item, deckname)"
   ]
  },
  {
   "cell_type": "code",
   "execution_count": 88,
   "metadata": {},
   "outputs": [],
   "source": [
    "\n",
    "dw_url = \"https://learngerman.dw.com/en/so-feiern-wir/l-38230985/lv\"\n",
    "deckname = \"A2-11-15\"\n",
    "await add_dw_words(dw_url, deckname)"
   ]
  }
 ],
 "metadata": {
  "kernelspec": {
   "display_name": "base",
   "language": "python",
   "name": "python3"
  },
  "language_info": {
   "codemirror_mode": {
    "name": "ipython",
    "version": 3
   },
   "file_extension": ".py",
   "mimetype": "text/x-python",
   "name": "python",
   "nbconvert_exporter": "python",
   "pygments_lexer": "ipython3",
   "version": "3.10.9"
  }
 },
 "nbformat": 4,
 "nbformat_minor": 2
}
